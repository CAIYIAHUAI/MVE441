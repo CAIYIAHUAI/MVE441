{
 "cells": [
  {
   "cell_type": "code",
   "execution_count": 22,
   "metadata": {},
   "outputs": [],
   "source": [
    "import pandas as pd\n",
    "import numpy as np\n",
    "import matplotlib.pyplot as plt\n",
    "from sklearn.model_selection import train_test_split, cross_val_score, GridSearchCV, cross_validate\n",
    "from sklearn.pipeline import Pipeline\n",
    "from sklearn.preprocessing import StandardScaler\n",
    "from sklearn.metrics import accuracy_score\n",
    "from sklearn.discriminant_analysis import LinearDiscriminantAnalysis\n",
    "from sklearn.linear_model import LogisticRegression\n",
    "from sklearn.neighbors import KNeighborsClassifier\n",
    "from collections import Counter"
   ]
  },
  {
   "cell_type": "markdown",
   "metadata": {},
   "source": [
    "### Part 1"
   ]
  },
  {
   "cell_type": "markdown",
   "metadata": {},
   "source": [
    "##### Load the data and plot some of it"
   ]
  },
  {
   "cell_type": "code",
   "execution_count": 3,
   "metadata": {},
   "outputs": [
    {
     "name": "stdout",
     "output_type": "stream",
     "text": [
      "   V1   V2   V3   V4     V5     V6     V7     V8     V9    V10  ...   V248  \\\n",
      "1   0 -1.0 -1.0 -1.0 -1.000 -1.000 -0.972  0.178  1.000  0.689  ...  0.522   \n",
      "2   9 -1.0 -1.0 -1.0 -1.000 -1.000 -0.815  0.268  0.640  0.869  ... -0.090   \n",
      "3   8 -1.0 -1.0 -1.0 -1.000 -0.987 -0.806 -0.169  0.350  0.986  ...  0.873   \n",
      "4  -9 -1.0 -1.0 -1.0 -1.000 -1.000 -1.000 -0.851  0.668 -0.858  ...  0.832   \n",
      "5   8 -1.0 -1.0 -1.0 -0.928  0.162 -0.014 -0.210  0.999  1.000  ... -1.000   \n",
      "\n",
      "    V249   V250   V251   V252   V253  V254  V255  V256  V257  \n",
      "1  0.940  1.000  0.400 -0.337 -0.954  -1.0  -1.0  -1.0  -1.0  \n",
      "2  0.990 -0.381 -1.000 -1.000 -1.000  -1.0  -1.0  -1.0  -1.0  \n",
      "3  1.000  1.000  0.832  0.196 -0.714  -1.0  -1.0  -1.0  -1.0  \n",
      "4 -0.017 -0.847 -1.000 -1.000 -1.000  -1.0  -1.0  -1.0  -1.0  \n",
      "5 -0.683  0.711  1.000  0.320 -0.928  -1.0  -1.0  -1.0  -1.0  \n",
      "\n",
      "[5 rows x 257 columns]\n",
      "Image dimensions: 16x16\n"
     ]
    },
    {
     "data": {
      "image/png": "[encoded data removed]",
      "text/plain": [
       "<Figure size 1000x500 with 10 Axes>"
      ]
     },
     "metadata": {},
     "output_type": "display_data"
    }
   ],
   "source": [
    "# Load the file \n",
    "data = pd.read_csv('Numbers.txt', delim_whitespace=True)\n",
    "\n",
    "# Print the first few rows to inspect the data structure\n",
    "print(data.head())\n",
    "\n",
    "# Separate the label (first column) and the image pixels (remaining columns)\n",
    "labels = data.iloc[:, 0].astype(int).values\n",
    "images = data.iloc[:, 1:].values\n",
    "\n",
    "# Determine image dimensions. Here we assume 256 pixels per image, i.e., 16x16.\n",
    "img_dim = int(np.sqrt(images.shape[1]))\n",
    "print(\"Image dimensions: {}x{}\".format(img_dim, img_dim))\n",
    "\n",
    "# Plot some images (for example, the first 10)\n",
    "fig, axes = plt.subplots(2, 5, figsize=(10, 5))\n",
    "for i, ax in enumerate(axes.flat):\n",
    "    # Reshape the flat image into 16x16\n",
    "    img = images[i].reshape(img_dim, img_dim)\n",
    "    # Show the image. Using cmap='gray' for better visualization.\n",
    "    ax.imshow(img, cmap='gray', interpolation='nearest')\n",
    "    ax.set_title(f\"Label: {labels[i]}\")\n",
    "    ax.axis('off')\n",
    "plt.tight_layout()\n",
    "plt.show()\n"
   ]
  },
  {
   "cell_type": "markdown",
   "metadata": {},
   "source": [
    "##### Prepare for training models"
   ]
  },
  {
   "cell_type": "code",
   "execution_count": 4,
   "metadata": {},
   "outputs": [],
   "source": [
    "# Split the data into train and test set\n",
    "x_train, x_test, y_train, y_test = train_test_split(images, labels, test_size=0.3, random_state=42, stratify=labels)"
   ]
  },
  {
   "cell_type": "code",
   "execution_count": 5,
   "metadata": {},
   "outputs": [
    {
     "name": "stdout",
     "output_type": "stream",
     "text": [
      "Data shapes: (1400, 256) (600, 256)\n"
     ]
    }
   ],
   "source": [
    "print(\"Data shapes:\", x_train.shape, x_test.shape)"
   ]
  },
  {
   "cell_type": "code",
   "execution_count": 6,
   "metadata": {},
   "outputs": [],
   "source": [
    "# Define classifier in pipeline\n",
    "pipeline = {\n",
    "    'LDA': Pipeline([\n",
    "        ('scaler', StandardScaler()),\n",
    "        ('clf', LinearDiscriminantAnalysis())\n",
    "    ]),\n",
    "    'LogisticRegression': Pipeline([\n",
    "        ('scaler', StandardScaler()),\n",
    "        ('clf', LogisticRegression(max_iter=1000, solver='lbfgs'))\n",
    "    ]),\n",
    "    'KNN': Pipeline([\n",
    "        ('scaler', StandardScaler()),\n",
    "        ('clf', KNeighborsClassifier())\n",
    "    ])\n",
    "}"
   ]
  },
  {
   "cell_type": "markdown",
   "metadata": {},
   "source": [
    "##### Perform cross-validation to compare the different models without tuning."
   ]
  },
  {
   "cell_type": "code",
   "execution_count": 7,
   "metadata": {},
   "outputs": [
    {
     "name": "stdout",
     "output_type": "stream",
     "text": [
      "\n",
      "=== 1. Comparison without tuning ===\n",
      "LDA: 5-fold CV Accuracy = 0.8686\n",
      "LogisticRegression: 5-fold CV Accuracy = 0.9121\n",
      "KNN: 5-fold CV Accuracy = 0.9086\n"
     ]
    }
   ],
   "source": [
    "print(\"\\n=== 1. Comparison without tuning ===\")\n",
    "cv_results = {}\n",
    "for name, pipe in pipeline.items():\n",
    "    scores = cross_val_score(pipe, x_train, y_train, cv=5, scoring='accuracy')\n",
    "    cv_results[name] = scores\n",
    "    print(f\"{name}: 5-fold CV Accuracy = {np.mean(scores):.4f}\")\n"
   ]
  },
  {
   "cell_type": "markdown",
   "metadata": {},
   "source": [
    "##### Perform cross-validation to tune *and* compare the different models - this requires you to use a double-CV or hold-out+CV  as mentioned in class."
   ]
  },
  {
   "cell_type": "code",
   "execution_count": 8,
   "metadata": {},
   "outputs": [
    {
     "name": "stdout",
     "output_type": "stream",
     "text": [
      "\n",
      "=== 2. Tuning and comparison (Nested CV) ===\n",
      "[0.87857143 0.86071429 0.86071429 0.875      0.86785714]\n",
      "LDA: Nested CV Accuracy = 0.8686\n",
      "[0.91785714 0.90357143 0.90714286 0.93214286 0.92142857]\n",
      "LogisticRegression: Nested CV Accuracy = 0.9164\n",
      "[0.91428571 0.90714286 0.92142857 0.94285714 0.90714286]\n",
      "KNN: Nested CV Accuracy = 0.9186\n",
      "LDA: Best params = Pipeline(steps=[('scaler', StandardScaler()),\n",
      "                ('clf', LinearDiscriminantAnalysis())]), Training Accuracy = 0.9564\n",
      "LogisticRegression: Best params = Pipeline(steps=[('scaler', StandardScaler()),\n",
      "                ('clf', LogisticRegression(C=0.1, max_iter=1000))]), Training Accuracy = 0.9921\n",
      "KNN: Best params = Pipeline(steps=[('scaler', StandardScaler()),\n",
      "                ('clf', KNeighborsClassifier(n_neighbors=1))]), Training Accuracy = 1.0000\n",
      "LDA: Test Accuracy = 0.8817\n",
      "LogisticRegression: Test Accuracy = 0.9167\n",
      "KNN: Test Accuracy = 0.9100\n"
     ]
    }
   ],
   "source": [
    "print(\"\\n=== 2. Tuning and comparison (Nested CV) ===\")\n",
    "param_grids = {\n",
    "    'LDA': {\n",
    "        # For LDA, there is not much parameters to tune; we could try solver options\n",
    "        'clf__solver': ['svd', 'lsqr']\n",
    "    },\n",
    "    'LogisticRegression': {\n",
    "        'clf__C': [0.01, 0.1, 1, 10, 100]\n",
    "    },\n",
    "    'KNN': {\n",
    "        # Here we tune the number of K. small K is very flexible, large K is more rigid\n",
    "        \"clf__n_neighbors\": [1, 3, 5, 7, 9] \n",
    "    }\n",
    "}\n",
    "\n",
    "nested_cv_results= {}\n",
    "for name, pipe in pipeline.items():\n",
    "    grid = GridSearchCV(pipe, param_grids[name], cv=5, scoring='accuracy')\n",
    "    # Outer CV to evaluate tune model\n",
    "    nested_scores = cross_val_score(grid, x_train, y_train, cv=5, scoring='accuracy')\n",
    "    print(nested_scores)\n",
    "    nested_cv_results[name] = nested_scores\n",
    "    print(f\"{name}: Nested CV Accuracy = {np.mean(nested_scores):.4f}\")\n",
    "\n",
    "# Fit tuned models in the training dataset and record training error\n",
    "tuned_models = {}\n",
    "train_scores = {}\n",
    "for name, pipe in pipeline.items():\n",
    "    grid = GridSearchCV(pipe, param_grids[name], cv=5, scoring='accuracy')\n",
    "    grid.fit(x_train, y_train)\n",
    "    tuned_models[name] = grid.best_estimator_\n",
    "    train_pred = grid.predict(x_train)\n",
    "    train_acc = accuracy_score(y_train, train_pred)\n",
    "    train_scores[name] = train_acc\n",
    "    print(f\"{name}: Best params = {grid.best_estimator_}, Training Accuracy = {train_acc:.4f}\")\n",
    "\n",
    "# Evaluate tuned model on the test dataset\n",
    "test_scores = {}\n",
    "for name, model in tuned_models.items():\n",
    "    test_pred = model.predict(x_test)\n",
    "    test_acc = accuracy_score(y_test, test_pred)\n",
    "    test_scores[name] = test_acc\n",
    "    print(f\"{name}: Test Accuracy = {test_acc:.4f}\")"
   ]
  },
  {
   "cell_type": "code",
   "execution_count": 10,
   "metadata": {},
   "outputs": [
    {
     "name": "stdout",
     "output_type": "stream",
     "text": [
      "\n",
      "=== 3. Optimism: Training vs. Nested CV vs. Test Accuracy ===\n",
      "LDA -> Training Accuracy: 0.956, Nested CV Accuracy: 0.869, Test Accuracy: 0.882\n",
      "LogisticRegression -> Training Accuracy: 0.992, Nested CV Accuracy: 0.916, Test Accuracy: 0.917\n",
      "KNN -> Training Accuracy: 1.000, Nested CV Accuracy: 0.919, Test Accuracy: 0.910\n"
     ]
    }
   ],
   "source": [
    "print(\"\\n=== 3. Optimism: Training vs. Nested CV vs. Test Accuracy ===\")\n",
    "for name in pipeline.keys():\n",
    "    cv_acc = np.mean(nested_cv_results[name])\n",
    "    print(f\"{name} -> Training Accuracy: {train_scores[name]:.3f}, Nested CV Accuracy: {cv_acc:.3f}, Test Accuracy: {test_scores[name]:.3f}\")\n"
   ]
  },
  {
   "cell_type": "markdown",
   "metadata": {},
   "source": [
    "### Part 2"
   ]
  },
  {
   "cell_type": "markdown",
   "metadata": {},
   "source": [
    "##### Small training data: 100, 500, 1000"
   ]
  },
  {
   "cell_type": "code",
   "execution_count": null,
   "metadata": {},
   "outputs": [],
   "source": [
    "# Randomly select 100 indices\n",
    "random_indices = np.random.choice(len(images), size=100, replace=False)\n",
    "\n",
    "# Select the corresponding images and labels\n",
    "images_100 = images[random_indices]\n",
    "labels_100 = labels[random_indices]"
   ]
  },
  {
   "cell_type": "code",
   "execution_count": 17,
   "metadata": {},
   "outputs": [],
   "source": [
    "# Select exactly 100 samples while preserving label distribution\n",
    "train_images,_, train_labels,_ = train_test_split(\n",
    "    images, \n",
    "    labels, \n",
    "    train_size=100, \n",
    "    stratify=labels, \n",
    "    random_state=42\n",
    ")"
   ]
  },
  {
   "cell_type": "code",
   "execution_count": 19,
   "metadata": {},
   "outputs": [
    {
     "name": "stdout",
     "output_type": "stream",
     "text": [
      "(100, 256)\n"
     ]
    }
   ],
   "source": [
    "print(train_images.shape)"
   ]
  },
  {
   "cell_type": "code",
   "execution_count": 26,
   "metadata": {},
   "outputs": [
    {
     "name": "stdout",
     "output_type": "stream",
     "text": [
      "\n",
      "Training on 1000 images...\n",
      "Label distribution in training data: Counter({0: 174, 1: 154, -2: 111, 6: 101, 2: 100, -9: 94, 5: 93, 9: 89, 8: 84})\n",
      "LDA: Test Accuracy = 0.863\n",
      "LogisticRegression: Test Accuracy = 0.917\n",
      "KNN: Test Accuracy = 0.897\n",
      "\n",
      "Training on 500 images...\n",
      "Label distribution in training data: Counter({0: 87, 1: 77, -2: 55, 2: 50, 6: 50, 5: 47, -9: 47, 9: 45, 8: 42})\n",
      "LDA: Test Accuracy = 0.760\n",
      "LogisticRegression: Test Accuracy = 0.883\n",
      "KNN: Test Accuracy = 0.870\n",
      "\n",
      "Training on 100 images...\n",
      "Label distribution in training data: Counter({0: 18, 1: 15, -2: 11, 6: 10, 2: 10, -9: 9, 8: 9, 5: 9, 9: 9})\n",
      "LDA: Test Accuracy = 0.573\n",
      "LogisticRegression: Test Accuracy = 0.832\n",
      "KNN: Test Accuracy = 0.710\n"
     ]
    }
   ],
   "source": [
    "train_sizes = [1000, 500, 100]\n",
    "results = {name: [] for name in pipeline.keys()}  # Store accuracy results\n",
    "\n",
    "# Loop through different training set sizes\n",
    "for train_size in train_sizes:\n",
    "    # Sample `train_size` images from the full training set\n",
    "    X_train_sample, _, y_train_sample, _ = train_test_split(\n",
    "        x_train, y_train, train_size=train_size, random_state=42, stratify=y_train)\n",
    "    \n",
    "    print(f\"\\nTraining on {train_size} images...\")\n",
    "    # Check the distribution of labels in your sampled training data\n",
    "    label_distribution = Counter(y_train_sample)\n",
    "    print(\"Label distribution in training data:\", label_distribution)\n",
    "\n",
    "    for name, pipe in pipeline.items():\n",
    "        # Train model\n",
    "        pipe.fit(X_train_sample, y_train_sample)\n",
    "        \n",
    "        # Evaluate on the fixed test set\n",
    "        test_pred = pipe.predict(x_test)\n",
    "        test_acc = accuracy_score(y_test, test_pred)\n",
    "        \n",
    "        results[name].append(test_acc)\n",
    "        print(f\"{name}: Test Accuracy = {test_acc:.3f}\")"
   ]
  },
  {
   "cell_type": "code",
   "execution_count": null,
   "metadata": {},
   "outputs": [],
   "source": []
  }
 ],
 "metadata": {
  "kernelspec": {
   "display_name": "base",
   "language": "python",
   "name": "python3"
  },
  "language_info": {
   "codemirror_mode": {
    "name": "ipython",
    "version": 3
   },
   "file_extension": ".py",
   "mimetype": "text/x-python",
   "name": "python",
   "nbconvert_exporter": "python",
   "pygments_lexer": "ipython3",
   "version": "3.11.7"
  }
 },
 "nbformat": 4,
 "nbformat_minor": 2
}
